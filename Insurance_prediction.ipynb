{
 "cells": [
  {
   "cell_type": "markdown",
   "metadata": {},
   "source": [
    "Consider the data present in the Insurance dataset file.\n",
    "Following is the attribute related information:\n",
    "\n",
    "\n",
    "* age: age of primary beneficiary\n",
    "\n",
    "* sex: insurance contractor gender, female, male.\n",
    "\n",
    "* bmi: Body mass index, providing an understanding of body, weights that are relatively high or low relative to height, objective index of body weight (kg/m^2) using the ratio of height to weight, ideally 18.5 to 24.9.\n",
    "\n",
    "* children: Number of children covered by health insurance / Number of dependents.\n",
    "\n",
    "* smoker: Smoking, yes or no\n",
    "\n",
    "* region: the beneficiary's residential area in the US, northeast, southeast, southwest, northwest.\n",
    "\n",
    "* charges: Individual medical costs billed by health insurance\n",
    "\n",
    "\n",
    "Problem statement: To predict the approximate insurance cost based upon the rest of the features provided for each individual."
   ]
  },
  {
   "cell_type": "code",
   "execution_count": 1,
   "metadata": {},
   "outputs": [],
   "source": [
    "# import the libraries\n",
    "import pandas as pd\n",
    "import numpy as np\n",
    "import matplotlib.pyplot as plt\n",
    "import seaborn as sns\n",
    "import warnings\n",
    "warnings.filterwarnings('ignore')"
   ]
  },
  {
   "cell_type": "code",
   "execution_count": 2,
   "metadata": {},
   "outputs": [
    {
     "data": {
      "text/html": [
       "<div>\n",
       "<style scoped>\n",
       "    .dataframe tbody tr th:only-of-type {\n",
       "        vertical-align: middle;\n",
       "    }\n",
       "\n",
       "    .dataframe tbody tr th {\n",
       "        vertical-align: top;\n",
       "    }\n",
       "\n",
       "    .dataframe thead th {\n",
       "        text-align: right;\n",
       "    }\n",
       "</style>\n",
       "<table border=\"1\" class=\"dataframe\">\n",
       "  <thead>\n",
       "    <tr style=\"text-align: right;\">\n",
       "      <th></th>\n",
       "      <th>age</th>\n",
       "      <th>sex</th>\n",
       "      <th>bmi</th>\n",
       "      <th>children</th>\n",
       "      <th>smoker</th>\n",
       "      <th>region</th>\n",
       "      <th>charges</th>\n",
       "    </tr>\n",
       "  </thead>\n",
       "  <tbody>\n",
       "    <tr>\n",
       "      <th>0</th>\n",
       "      <td>19</td>\n",
       "      <td>female</td>\n",
       "      <td>27.900</td>\n",
       "      <td>0</td>\n",
       "      <td>yes</td>\n",
       "      <td>southwest</td>\n",
       "      <td>16884.92400</td>\n",
       "    </tr>\n",
       "    <tr>\n",
       "      <th>1</th>\n",
       "      <td>18</td>\n",
       "      <td>male</td>\n",
       "      <td>33.770</td>\n",
       "      <td>1</td>\n",
       "      <td>no</td>\n",
       "      <td>southeast</td>\n",
       "      <td>1725.55230</td>\n",
       "    </tr>\n",
       "    <tr>\n",
       "      <th>2</th>\n",
       "      <td>28</td>\n",
       "      <td>male</td>\n",
       "      <td>33.000</td>\n",
       "      <td>3</td>\n",
       "      <td>no</td>\n",
       "      <td>southeast</td>\n",
       "      <td>4449.46200</td>\n",
       "    </tr>\n",
       "    <tr>\n",
       "      <th>3</th>\n",
       "      <td>33</td>\n",
       "      <td>male</td>\n",
       "      <td>22.705</td>\n",
       "      <td>0</td>\n",
       "      <td>no</td>\n",
       "      <td>northwest</td>\n",
       "      <td>21984.47061</td>\n",
       "    </tr>\n",
       "    <tr>\n",
       "      <th>4</th>\n",
       "      <td>32</td>\n",
       "      <td>male</td>\n",
       "      <td>28.880</td>\n",
       "      <td>0</td>\n",
       "      <td>no</td>\n",
       "      <td>northwest</td>\n",
       "      <td>3866.85520</td>\n",
       "    </tr>\n",
       "  </tbody>\n",
       "</table>\n",
       "</div>"
      ],
      "text/plain": [
       "   age     sex     bmi  children smoker     region      charges\n",
       "0   19  female  27.900         0    yes  southwest  16884.92400\n",
       "1   18    male  33.770         1     no  southeast   1725.55230\n",
       "2   28    male  33.000         3     no  southeast   4449.46200\n",
       "3   33    male  22.705         0     no  northwest  21984.47061\n",
       "4   32    male  28.880         0     no  northwest   3866.85520"
      ]
     },
     "execution_count": 2,
     "metadata": {},
     "output_type": "execute_result"
    }
   ],
   "source": [
    "data=pd.read_csv(r\"C:\\Users\\RBI\\Downloads\\datasets_insurance.csv\")\n",
    "data.head()"
   ]
  },
  {
   "cell_type": "markdown",
   "metadata": {},
   "source": [
    "### Exploratory Data Analysis"
   ]
  },
  {
   "cell_type": "code",
   "execution_count": 3,
   "metadata": {},
   "outputs": [
    {
     "name": "stdout",
     "output_type": "stream",
     "text": [
      "(1338, 7)\n"
     ]
    }
   ],
   "source": [
    "print(data.shape)"
   ]
  },
  {
   "cell_type": "code",
   "execution_count": 4,
   "metadata": {},
   "outputs": [
    {
     "name": "stdout",
     "output_type": "stream",
     "text": [
      "age           int64\n",
      "sex          object\n",
      "bmi         float64\n",
      "children      int64\n",
      "smoker       object\n",
      "region       object\n",
      "charges     float64\n",
      "dtype: object\n"
     ]
    }
   ],
   "source": [
    "print(data.dtypes)"
   ]
  },
  {
   "cell_type": "code",
   "execution_count": 5,
   "metadata": {},
   "outputs": [
    {
     "name": "stdout",
     "output_type": "stream",
     "text": [
      "               age          bmi     children       charges\n",
      "count  1338.000000  1338.000000  1338.000000   1338.000000\n",
      "mean     39.207025    30.663397     1.094918  13270.422265\n",
      "std      14.049960     6.098187     1.205493  12110.011237\n",
      "min      18.000000    15.960000     0.000000   1121.873900\n",
      "25%      27.000000    26.296250     0.000000   4740.287150\n",
      "50%      39.000000    30.400000     1.000000   9382.033000\n",
      "75%      51.000000    34.693750     2.000000  16639.912515\n",
      "max      64.000000    53.130000     5.000000  63770.428010\n"
     ]
    }
   ],
   "source": [
    "print(data.describe())"
   ]
  },
  {
   "cell_type": "code",
   "execution_count": 6,
   "metadata": {},
   "outputs": [
    {
     "data": {
      "text/plain": [
       "age         0\n",
       "sex         0\n",
       "bmi         0\n",
       "children    0\n",
       "smoker      0\n",
       "region      0\n",
       "charges     0\n",
       "dtype: int64"
      ]
     },
     "execution_count": 6,
     "metadata": {},
     "output_type": "execute_result"
    }
   ],
   "source": [
    "data.isnull().sum()"
   ]
  },
  {
   "cell_type": "markdown",
   "metadata": {},
   "source": [
    "There are no null values in the data"
   ]
  },
  {
   "cell_type": "markdown",
   "metadata": {},
   "source": [
    "### Checking Assumptions for Linear Regression"
   ]
  },
  {
   "cell_type": "code",
   "execution_count": 10,
   "metadata": {},
   "outputs": [
    {
     "data": {
      "text/plain": [
       "<Axes: >"
      ]
     },
     "execution_count": 10,
     "metadata": {},
     "output_type": "execute_result"
    }
   ],
   "source": [
    "# Assupmtion 1: No outliers in data\n",
    "\n",
    "data.boxplot()"
   ]
  },
  {
   "cell_type": "code",
   "execution_count": 14,
   "metadata": {},
   "outputs": [
    {
     "data": {
      "image/png": "[encoded data removed]",
      "text/plain": [
       "<Figure size 1500x250 with 6 Axes>"
      ]
     },
     "metadata": {},
     "output_type": "display_data"
    }
   ],
   "source": [
    "# Assupmtion 2: Assumption of Linearity\n",
    "\n",
    "sns.pairplot(data,x_vars=['age','sex', 'bmi', 'children', 'smoker', 'region'],\n",
    "            y_vars=['charges'],kind='scatter')                     \n",
    "plt.show()"
   ]
  },
  {
   "cell_type": "markdown",
   "metadata": {},
   "source": [
    "From the pair plot it can be seen that age and charges have a linear relationship, while BMI also shows a linar relationship with charges. Sex, childern, smoker and region have no relationship as they have categorical data."
   ]
  },
  {
   "cell_type": "code",
   "execution_count": 15,
   "metadata": {},
   "outputs": [
    {
     "name": "stdout",
     "output_type": "stream",
     "text": [
      "(1338, 6)\n",
      "(1338, 1)\n"
     ]
    }
   ],
   "source": [
    "# Creating X and Y\n",
    "\n",
    "X=data.loc[:,['age','sex', 'bmi', 'children', 'smoker', 'region']]\n",
    "Y=data.loc[:,['charges']]\n",
    "\n",
    "print(X.shape)\n",
    "print(Y.shape)"
   ]
  },
  {
   "cell_type": "markdown",
   "metadata": {},
   "source": [
    "X is the Indenpendent variable and Y is the dependent varibales."
   ]
  },
  {
   "cell_type": "code",
   "execution_count": 16,
   "metadata": {},
   "outputs": [
    {
     "data": {
      "image/png": "[encoded data removed]",
      "text/plain": [
       "<Figure size 640x480 with 1 Axes>"
      ]
     },
     "metadata": {},
     "output_type": "display_data"
    }
   ],
   "source": [
    "# Assupmtion 3: Normality distributed data\n",
    "\n",
    "sns.distplot(Y)\n",
    "plt.show()"
   ]
  },
  {
   "cell_type": "markdown",
   "metadata": {},
   "source": [
    "The data Charges is Right Skewed. Therefore we have to do the log transformation to remove th skewness from the data and bring it to normal distribution."
   ]
  },
  {
   "cell_type": "code",
   "execution_count": 17,
   "metadata": {},
   "outputs": [],
   "source": [
    "# Log transformation\n",
    "Y_log=np.log(Y)"
   ]
  },
  {
   "cell_type": "code",
   "execution_count": 18,
   "metadata": {},
   "outputs": [
    {
     "data": {
      "image/png": "[encoded data removed]",
      "text/plain": [
       "<Figure size 640x480 with 1 Axes>"
      ]
     },
     "metadata": {},
     "output_type": "display_data"
    }
   ],
   "source": [
    "sns.distplot(Y_log)\n",
    "plt.show()"
   ]
  },
  {
   "cell_type": "markdown",
   "metadata": {},
   "source": [
    "Now the data Charges has been normally distrubuted."
   ]
  },
  {
   "cell_type": "code",
   "execution_count": 19,
   "metadata": {},
   "outputs": [],
   "source": [
    "# Convert catergorical variables to numerical variables\n",
    "\n",
    "X['sex'].replace(['female', 'male'],[0, 1], inplace=True)\n",
    "X['smoker'].replace(['no','yes'],[0,1],inplace=True)\n",
    "X['region'].replace(['northeast','northwest','southeast','southwest'],[0,1,2,3],inplace=True)"
   ]
  },
  {
   "cell_type": "code",
   "execution_count": 20,
   "metadata": {},
   "outputs": [
    {
     "data": {
      "text/html": [
       "<div>\n",
       "<style scoped>\n",
       "    .dataframe tbody tr th:only-of-type {\n",
       "        vertical-align: middle;\n",
       "    }\n",
       "\n",
       "    .dataframe tbody tr th {\n",
       "        vertical-align: top;\n",
       "    }\n",
       "\n",
       "    .dataframe thead th {\n",
       "        text-align: right;\n",
       "    }\n",
       "</style>\n",
       "<table border=\"1\" class=\"dataframe\">\n",
       "  <thead>\n",
       "    <tr style=\"text-align: right;\">\n",
       "      <th></th>\n",
       "      <th>age</th>\n",
       "      <th>sex</th>\n",
       "      <th>bmi</th>\n",
       "      <th>children</th>\n",
       "      <th>smoker</th>\n",
       "      <th>region</th>\n",
       "    </tr>\n",
       "  </thead>\n",
       "  <tbody>\n",
       "    <tr>\n",
       "      <th>0</th>\n",
       "      <td>19</td>\n",
       "      <td>0</td>\n",
       "      <td>27.900</td>\n",
       "      <td>0</td>\n",
       "      <td>1</td>\n",
       "      <td>3</td>\n",
       "    </tr>\n",
       "    <tr>\n",
       "      <th>1</th>\n",
       "      <td>18</td>\n",
       "      <td>1</td>\n",
       "      <td>33.770</td>\n",
       "      <td>1</td>\n",
       "      <td>0</td>\n",
       "      <td>2</td>\n",
       "    </tr>\n",
       "    <tr>\n",
       "      <th>2</th>\n",
       "      <td>28</td>\n",
       "      <td>1</td>\n",
       "      <td>33.000</td>\n",
       "      <td>3</td>\n",
       "      <td>0</td>\n",
       "      <td>2</td>\n",
       "    </tr>\n",
       "    <tr>\n",
       "      <th>3</th>\n",
       "      <td>33</td>\n",
       "      <td>1</td>\n",
       "      <td>22.705</td>\n",
       "      <td>0</td>\n",
       "      <td>0</td>\n",
       "      <td>1</td>\n",
       "    </tr>\n",
       "    <tr>\n",
       "      <th>4</th>\n",
       "      <td>32</td>\n",
       "      <td>1</td>\n",
       "      <td>28.880</td>\n",
       "      <td>0</td>\n",
       "      <td>0</td>\n",
       "      <td>1</td>\n",
       "    </tr>\n",
       "  </tbody>\n",
       "</table>\n",
       "</div>"
      ],
      "text/plain": [
       "   age  sex     bmi  children  smoker  region\n",
       "0   19    0  27.900         0       1       3\n",
       "1   18    1  33.770         1       0       2\n",
       "2   28    1  33.000         3       0       2\n",
       "3   33    1  22.705         0       0       1\n",
       "4   32    1  28.880         0       0       1"
      ]
     },
     "execution_count": 20,
     "metadata": {},
     "output_type": "execute_result"
    }
   ],
   "source": [
    "X.head()"
   ]
  },
  {
   "cell_type": "code",
   "execution_count": 21,
   "metadata": {},
   "outputs": [
    {
     "data": {
      "image/png": "[encoded data removed]",
      "text/plain": [
       "<Figure size 640x480 with 6 Axes>"
      ]
     },
     "metadata": {},
     "output_type": "display_data"
    }
   ],
   "source": [
    "# Checking normality in X variables\n",
    "\n",
    "X.hist(bins=20)\n",
    "plt.show()"
   ]
  },
  {
   "cell_type": "markdown",
   "metadata": {},
   "source": [
    "From the above graph it can seen that BMI and Smkoer show a normal distribuion."
   ]
  },
  {
   "cell_type": "code",
   "execution_count": 25,
   "metadata": {},
   "outputs": [
    {
     "name": "stdout",
     "output_type": "stream",
     "text": [
      "               age       sex       bmi  children    smoker    region\n",
      "age       1.000000 -0.020856  0.109272  0.042469 -0.025019  0.002127\n",
      "sex      -0.020856  1.000000  0.046371  0.017163  0.076185  0.004588\n",
      "bmi       0.109272  0.046371  1.000000  0.012759  0.003750  0.157566\n",
      "children  0.042469  0.017163  0.012759  1.000000  0.007673  0.016569\n",
      "smoker   -0.025019  0.076185  0.003750  0.007673  1.000000 -0.002181\n",
      "region    0.002127  0.004588  0.157566  0.016569 -0.002181  1.000000\n"
     ]
    },
    {
     "data": {
      "image/png": "[encoded data removed]",
      "text/plain": [
       "<Figure size 640x480 with 2 Axes>"
      ]
     },
     "metadata": {},
     "output_type": "display_data"
    }
   ],
   "source": [
    "# Assumption 4 : No multicollinearity in the data\n",
    "\n",
    "corr_df=X.corr(method=\"pearson\")\n",
    "print(corr_df)\n",
    " \n",
    "sns.heatmap(corr_df,vmax=1.0,vmin=-1.0,annot=True)\n",
    "plt.show()"
   ]
  },
  {
   "cell_type": "markdown",
   "metadata": {},
   "source": [
    "From the heat map it can be seen that the X vaiables do not show colinearity amoung each other."
   ]
  },
  {
   "cell_type": "code",
   "execution_count": 20,
   "metadata": {},
   "outputs": [
    {
     "data": {
      "text/html": [
       "<div>\n",
       "<style scoped>\n",
       "    .dataframe tbody tr th:only-of-type {\n",
       "        vertical-align: middle;\n",
       "    }\n",
       "\n",
       "    .dataframe tbody tr th {\n",
       "        vertical-align: top;\n",
       "    }\n",
       "\n",
       "    .dataframe thead th {\n",
       "        text-align: right;\n",
       "    }\n",
       "</style>\n",
       "<table border=\"1\" class=\"dataframe\">\n",
       "  <thead>\n",
       "    <tr style=\"text-align: right;\">\n",
       "      <th></th>\n",
       "      <th>features</th>\n",
       "      <th>VIF Factor</th>\n",
       "    </tr>\n",
       "  </thead>\n",
       "  <tbody>\n",
       "    <tr>\n",
       "      <th>0</th>\n",
       "      <td>age</td>\n",
       "      <td>7.55</td>\n",
       "    </tr>\n",
       "    <tr>\n",
       "      <th>1</th>\n",
       "      <td>sex</td>\n",
       "      <td>2.00</td>\n",
       "    </tr>\n",
       "    <tr>\n",
       "      <th>2</th>\n",
       "      <td>bmi</td>\n",
       "      <td>10.37</td>\n",
       "    </tr>\n",
       "    <tr>\n",
       "      <th>3</th>\n",
       "      <td>children</td>\n",
       "      <td>1.80</td>\n",
       "    </tr>\n",
       "    <tr>\n",
       "      <th>4</th>\n",
       "      <td>smoker</td>\n",
       "      <td>1.26</td>\n",
       "    </tr>\n",
       "    <tr>\n",
       "      <th>5</th>\n",
       "      <td>region</td>\n",
       "      <td>2.92</td>\n",
       "    </tr>\n",
       "  </tbody>\n",
       "</table>\n",
       "</div>"
      ],
      "text/plain": [
       "   features  VIF Factor\n",
       "0       age        7.55\n",
       "1       sex        2.00\n",
       "2       bmi       10.37\n",
       "3  children        1.80\n",
       "4    smoker        1.26\n",
       "5    region        2.92"
      ]
     },
     "execution_count": 20,
     "metadata": {},
     "output_type": "execute_result"
    }
   ],
   "source": [
    "# Variance Inflation Factor (VIF)\n",
    "\n",
    "from statsmodels.stats.outliers_influence import variance_inflation_factor as vif\n",
    " \n",
    "vif_df = pd.DataFrame()\n",
    "vif_df[\"features\"] = X.columns\n",
    "vif_df[\"VIF Factor\"] = [vif(X.values, i) for i in range(X.shape[1])]\n",
    "vif_df.round(2)"
   ]
  },
  {
   "cell_type": "markdown",
   "metadata": {},
   "source": [
    "It can be seen that Age and BMI have high multicolinearity, while rest variables have less multicoliniarity. We will not eliminate Age and BMI as these varibales are important with repect to our problem."
   ]
  },
  {
   "cell_type": "code",
   "execution_count": 28,
   "metadata": {},
   "outputs": [],
   "source": [
    "# Spliting the data into train and test\n",
    "\n",
    "from sklearn.model_selection import train_test_split\n",
    "X_train, X_test, Y_train, Y_test = train_test_split(X, Y_log, test_size=0.2,random_state=10)   "
   ]
  },
  {
   "cell_type": "code",
   "execution_count": 29,
   "metadata": {},
   "outputs": [
    {
     "name": "stdout",
     "output_type": "stream",
     "text": [
      "(1070, 6)\n",
      "(1070, 1)\n",
      "(268, 6)\n",
      "(268, 1)\n"
     ]
    }
   ],
   "source": [
    "print(X_train.shape)\n",
    "print(Y_train.shape)\n",
    "print(X_test.shape)\n",
    "print(Y_test.shape)"
   ]
  },
  {
   "cell_type": "markdown",
   "metadata": {},
   "source": [
    "The data has been splitted into train and test. The test size given is 0.2 which means that 80% of the data is for training while 20% is reserved for testing."
   ]
  },
  {
   "cell_type": "markdown",
   "metadata": {},
   "source": [
    "###  Building Linear Regression model\n",
    "#### Base Linear Regression model"
   ]
  },
  {
   "cell_type": "code",
   "execution_count": 33,
   "metadata": {},
   "outputs": [
    {
     "name": "stdout",
     "output_type": "stream",
     "text": [
      "Intercept [6.99879762]\n",
      "Coefficients [[ 0.03498834 -0.0711322   0.01259126  0.09962977  1.5693443  -0.03889152]]\n"
     ]
    }
   ],
   "source": [
    "from sklearn.linear_model import LinearRegression\n",
    "lm = LinearRegression()\n",
    "lm.fit(X_train, Y_train)            \n",
    "\n",
    "# print intercept and coefficients\n",
    "print(\"Intercept\",lm.intercept_)                     \n",
    "print(\"Coefficients\",lm.coef_)                          "
   ]
  },
  {
   "cell_type": "code",
   "execution_count": 34,
   "metadata": {
    "collapsed": true
   },
   "outputs": [
    {
     "name": "stdout",
     "output_type": "stream",
     "text": [
      "[[ 8.90264566]\n",
      " [ 8.55800249]\n",
      " [ 9.44206862]\n",
      " [ 9.37109228]\n",
      " [ 8.30231857]\n",
      " [ 8.93127398]\n",
      " [ 9.22860018]\n",
      " [ 9.62770497]\n",
      " [ 8.96169962]\n",
      " [10.524292  ]\n",
      " [ 8.12183109]\n",
      " [ 8.270934  ]\n",
      " [ 8.75991467]\n",
      " [ 9.14967223]\n",
      " [ 9.23002002]\n",
      " [ 9.36183759]\n",
      " [ 8.32332991]\n",
      " [ 9.81527793]\n",
      " [ 9.18395253]\n",
      " [10.20908992]\n",
      " [10.5308626 ]\n",
      " [ 8.06726747]\n",
      " [ 7.95992684]\n",
      " [ 8.77128514]\n",
      " [ 8.43374205]\n",
      " [ 9.41895434]\n",
      " [ 9.01687327]\n",
      " [ 9.41850025]\n",
      " [ 8.42170066]\n",
      " [10.20084299]\n",
      " [ 7.72507636]\n",
      " [10.38861159]\n",
      " [ 8.89576619]\n",
      " [ 8.94511958]\n",
      " [ 8.45447782]\n",
      " [ 8.89057139]\n",
      " [ 9.43604078]\n",
      " [ 9.09248396]\n",
      " [ 9.09271164]\n",
      " [ 8.89473802]\n",
      " [ 9.58926813]\n",
      " [ 9.15682789]\n",
      " [ 8.54484462]\n",
      " [ 8.99761391]\n",
      " [ 7.99767708]\n",
      " [ 8.81979395]\n",
      " [ 8.91337357]\n",
      " [10.61798009]\n",
      " [ 9.30298176]\n",
      " [ 9.24221911]\n",
      " [10.01078002]\n",
      " [ 8.31758485]\n",
      " [ 8.90942155]\n",
      " [ 9.62809789]\n",
      " [ 9.09900057]\n",
      " [ 9.38167738]\n",
      " [ 9.30538021]\n",
      " [ 8.63050675]\n",
      " [ 8.707771  ]\n",
      " [10.70371838]\n",
      " [ 7.87802912]\n",
      " [10.61635976]\n",
      " [11.07322819]\n",
      " [ 7.95757539]\n",
      " [ 9.99650111]\n",
      " [ 8.87336923]\n",
      " [ 8.47709653]\n",
      " [ 8.90772216]\n",
      " [ 8.86749958]\n",
      " [ 8.92965431]\n",
      " [ 8.81908517]\n",
      " [ 7.95741791]\n",
      " [ 8.85051652]\n",
      " [ 8.89426488]\n",
      " [ 8.97913786]\n",
      " [ 9.33234154]\n",
      " [ 8.55732546]\n",
      " [ 8.82884226]\n",
      " [ 7.81072893]\n",
      " [ 9.33028012]\n",
      " [ 9.26333526]\n",
      " [ 9.18682528]\n",
      " [ 9.76252798]\n",
      " [ 8.25757278]\n",
      " [10.7521011 ]\n",
      " [ 8.30707181]\n",
      " [ 7.89933932]\n",
      " [ 8.00117894]\n",
      " [ 8.73508389]\n",
      " [ 9.16545984]\n",
      " [10.22758339]\n",
      " [10.37597279]\n",
      " [ 9.14821878]\n",
      " [10.54463964]\n",
      " [ 9.40306727]\n",
      " [ 8.42687233]\n",
      " [ 8.71927641]\n",
      " [ 9.26351312]\n",
      " [ 8.5192461 ]\n",
      " [ 9.32917875]\n",
      " [ 8.78058049]\n",
      " [ 8.00777364]\n",
      " [ 8.30781235]\n",
      " [ 8.5037178 ]\n",
      " [ 9.10261193]\n",
      " [ 8.9864186 ]\n",
      " [10.31662101]\n",
      " [10.00015164]\n",
      " [10.54458162]\n",
      " [ 8.48477941]\n",
      " [ 9.16098223]\n",
      " [ 8.80265364]\n",
      " [ 8.48996138]\n",
      " [ 9.55766456]\n",
      " [ 9.88933686]\n",
      " [10.3303305 ]\n",
      " [ 8.47370328]\n",
      " [10.59621853]\n",
      " [ 8.80700797]\n",
      " [ 8.31622619]\n",
      " [10.48215667]\n",
      " [ 9.07150391]\n",
      " [ 8.7611906 ]\n",
      " [ 8.05218881]\n",
      " [11.06531961]\n",
      " [ 8.24252385]\n",
      " [ 9.41028173]\n",
      " [ 8.72348451]\n",
      " [ 8.49337039]\n",
      " [ 9.41218088]\n",
      " [ 9.15613405]\n",
      " [10.99066035]\n",
      " [ 9.6904409 ]\n",
      " [10.69889614]\n",
      " [ 8.95407949]\n",
      " [10.28411004]\n",
      " [ 9.32703168]\n",
      " [ 9.2117628 ]\n",
      " [ 9.85550768]\n",
      " [ 8.61764036]\n",
      " [ 8.78601076]\n",
      " [10.47558762]\n",
      " [ 9.5137303 ]\n",
      " [ 8.19805539]\n",
      " [ 8.28660462]\n",
      " [ 9.90354412]\n",
      " [ 9.27361769]\n",
      " [ 8.86313263]\n",
      " [ 9.01621165]\n",
      " [ 8.27524785]\n",
      " [ 8.41946485]\n",
      " [ 8.72652452]\n",
      " [ 7.85854374]\n",
      " [11.06939617]\n",
      " [ 9.41973559]\n",
      " [ 7.94920072]\n",
      " [ 9.42337687]\n",
      " [ 7.77191574]\n",
      " [ 9.59912191]\n",
      " [10.85617702]\n",
      " [ 9.35980057]\n",
      " [ 8.18231406]\n",
      " [ 8.74739348]\n",
      " [ 9.3211925 ]\n",
      " [ 8.30116928]\n",
      " [10.98202704]\n",
      " [ 8.90945911]\n",
      " [ 8.59742715]\n",
      " [ 7.94277074]\n",
      " [ 9.21356694]\n",
      " [ 9.21839839]\n",
      " [ 8.92522424]\n",
      " [ 8.59667393]\n",
      " [ 8.75464029]\n",
      " [10.12664877]\n",
      " [ 8.75755384]\n",
      " [ 8.19617411]\n",
      " [ 9.15231574]\n",
      " [ 8.96733281]\n",
      " [ 9.40806153]\n",
      " [11.08507252]\n",
      " [ 9.27397427]\n",
      " [ 8.45850839]\n",
      " [ 8.02122274]\n",
      " [ 9.4832896 ]\n",
      " [ 8.35743004]\n",
      " [10.86003989]\n",
      " [ 9.10373926]\n",
      " [10.46204291]\n",
      " [ 8.08542577]\n",
      " [ 9.03445575]\n",
      " [ 8.94675662]\n",
      " [ 8.52255099]\n",
      " [ 8.92562406]\n",
      " [ 9.45438476]\n",
      " [ 9.15852639]\n",
      " [ 9.51131334]\n",
      " [ 8.42861174]\n",
      " [ 9.35974466]\n",
      " [ 8.68309189]\n",
      " [ 8.60765954]\n",
      " [ 7.85649806]\n",
      " [ 9.55418604]\n",
      " [ 9.02921177]\n",
      " [ 7.97739671]\n",
      " [10.75398776]\n",
      " [ 9.99972802]\n",
      " [ 9.76989302]\n",
      " [10.12129612]\n",
      " [ 8.10515203]\n",
      " [ 8.90693486]\n",
      " [10.27465961]\n",
      " [ 8.74223938]\n",
      " [ 8.82171349]\n",
      " [10.13123324]\n",
      " [ 8.45100656]\n",
      " [ 8.77622604]\n",
      " [ 8.14075671]\n",
      " [ 9.66373183]\n",
      " [ 9.28023779]\n",
      " [ 8.61731798]\n",
      " [ 8.55565692]\n",
      " [ 7.94437664]\n",
      " [ 9.49972244]\n",
      " [ 7.87688076]\n",
      " [ 9.57092658]\n",
      " [ 9.49620305]\n",
      " [ 8.03279827]\n",
      " [ 8.84747858]\n",
      " [ 9.90709186]\n",
      " [ 8.63241152]\n",
      " [ 9.47257859]\n",
      " [ 8.73430832]\n",
      " [ 9.85498784]\n",
      " [ 9.20373607]\n",
      " [ 8.21948195]\n",
      " [ 9.41059788]\n",
      " [11.12168906]\n",
      " [ 7.81257708]\n",
      " [ 9.22642415]\n",
      " [ 9.23723917]\n",
      " [ 9.76165441]\n",
      " [ 9.10679167]\n",
      " [10.25972317]\n",
      " [ 9.29564749]\n",
      " [ 8.16544379]\n",
      " [ 9.24274668]\n",
      " [ 8.42582278]\n",
      " [ 9.49945452]\n",
      " [ 8.01226039]\n",
      " [ 8.44508048]\n",
      " [ 9.47996048]\n",
      " [10.33058724]\n",
      " [ 8.47159444]\n",
      " [ 8.97491974]\n",
      " [ 9.16636526]\n",
      " [ 9.07555035]\n",
      " [ 8.51761617]\n",
      " [ 8.02095839]\n",
      " [ 9.35039272]\n",
      " [ 8.28959601]\n",
      " [11.00610177]\n",
      " [ 8.70684125]\n",
      " [10.75963296]\n",
      " [ 8.37558287]\n",
      " [ 8.0961127 ]\n",
      " [ 9.43755013]\n",
      " [ 8.97155998]]\n"
     ]
    }
   ],
   "source": [
    "# Predict using the model\n",
    "Y_pred=lm.predict(X_test)\n",
    "print(Y_pred) "
   ]
  },
  {
   "cell_type": "markdown",
   "metadata": {},
   "source": [
    "These are the Y predicted values for X test data"
   ]
  },
  {
   "cell_type": "code",
   "execution_count": 37,
   "metadata": {},
   "outputs": [],
   "source": [
    "# Evaluating the model: comparing acutal sales vs predicted sales\n",
    "\n",
    "new_df=pd.DataFrame()\n",
    "new_df=X_test.copy()\n",
    " \n",
    "new_df[\"Actual sales\"]=Y_test\n",
    "new_df[\"Predicted sales\"]=Y_pred\n",
    "new_df=new_df.reset_index().drop('index',axis=1)"
   ]
  },
  {
   "cell_type": "code",
   "execution_count": 36,
   "metadata": {},
   "outputs": [
    {
     "data": {
      "text/html": [
       "<div>\n",
       "<style scoped>\n",
       "    .dataframe tbody tr th:only-of-type {\n",
       "        vertical-align: middle;\n",
       "    }\n",
       "\n",
       "    .dataframe tbody tr th {\n",
       "        vertical-align: top;\n",
       "    }\n",
       "\n",
       "    .dataframe thead th {\n",
       "        text-align: right;\n",
       "    }\n",
       "</style>\n",
       "<table border=\"1\" class=\"dataframe\">\n",
       "  <thead>\n",
       "    <tr style=\"text-align: right;\">\n",
       "      <th></th>\n",
       "      <th>age</th>\n",
       "      <th>sex</th>\n",
       "      <th>bmi</th>\n",
       "      <th>children</th>\n",
       "      <th>smoker</th>\n",
       "      <th>region</th>\n",
       "      <th>Actual sales</th>\n",
       "      <th>Predicted sales</th>\n",
       "    </tr>\n",
       "  </thead>\n",
       "  <tbody>\n",
       "    <tr>\n",
       "      <th>0</th>\n",
       "      <td>37</td>\n",
       "      <td>0</td>\n",
       "      <td>27.740</td>\n",
       "      <td>3</td>\n",
       "      <td>0</td>\n",
       "      <td>1</td>\n",
       "      <td>8.893093</td>\n",
       "      <td>8.902646</td>\n",
       "    </tr>\n",
       "    <tr>\n",
       "      <th>1</th>\n",
       "      <td>36</td>\n",
       "      <td>0</td>\n",
       "      <td>26.885</td>\n",
       "      <td>0</td>\n",
       "      <td>0</td>\n",
       "      <td>1</td>\n",
       "      <td>8.569372</td>\n",
       "      <td>8.558002</td>\n",
       "    </tr>\n",
       "    <tr>\n",
       "      <th>2</th>\n",
       "      <td>59</td>\n",
       "      <td>1</td>\n",
       "      <td>37.100</td>\n",
       "      <td>1</td>\n",
       "      <td>0</td>\n",
       "      <td>3</td>\n",
       "      <td>9.421182</td>\n",
       "      <td>9.442069</td>\n",
       "    </tr>\n",
       "    <tr>\n",
       "      <th>3</th>\n",
       "      <td>61</td>\n",
       "      <td>0</td>\n",
       "      <td>25.080</td>\n",
       "      <td>0</td>\n",
       "      <td>0</td>\n",
       "      <td>2</td>\n",
       "      <td>10.106963</td>\n",
       "      <td>9.371092</td>\n",
       "    </tr>\n",
       "    <tr>\n",
       "      <th>4</th>\n",
       "      <td>29</td>\n",
       "      <td>0</td>\n",
       "      <td>26.030</td>\n",
       "      <td>0</td>\n",
       "      <td>0</td>\n",
       "      <td>1</td>\n",
       "      <td>8.225895</td>\n",
       "      <td>8.302319</td>\n",
       "    </tr>\n",
       "    <tr>\n",
       "      <th>...</th>\n",
       "      <td>...</td>\n",
       "      <td>...</td>\n",
       "      <td>...</td>\n",
       "      <td>...</td>\n",
       "      <td>...</td>\n",
       "      <td>...</td>\n",
       "      <td>...</td>\n",
       "      <td>...</td>\n",
       "    </tr>\n",
       "    <tr>\n",
       "      <th>263</th>\n",
       "      <td>50</td>\n",
       "      <td>1</td>\n",
       "      <td>34.200</td>\n",
       "      <td>2</td>\n",
       "      <td>1</td>\n",
       "      <td>3</td>\n",
       "      <td>10.665620</td>\n",
       "      <td>10.759633</td>\n",
       "    </tr>\n",
       "    <tr>\n",
       "      <th>264</th>\n",
       "      <td>26</td>\n",
       "      <td>0</td>\n",
       "      <td>40.185</td>\n",
       "      <td>0</td>\n",
       "      <td>0</td>\n",
       "      <td>1</td>\n",
       "      <td>8.071295</td>\n",
       "      <td>8.375583</td>\n",
       "    </tr>\n",
       "    <tr>\n",
       "      <th>265</th>\n",
       "      <td>19</td>\n",
       "      <td>1</td>\n",
       "      <td>27.265</td>\n",
       "      <td>2</td>\n",
       "      <td>0</td>\n",
       "      <td>1</td>\n",
       "      <td>10.020989</td>\n",
       "      <td>8.096113</td>\n",
       "    </tr>\n",
       "    <tr>\n",
       "      <th>266</th>\n",
       "      <td>57</td>\n",
       "      <td>1</td>\n",
       "      <td>40.945</td>\n",
       "      <td>0</td>\n",
       "      <td>0</td>\n",
       "      <td>0</td>\n",
       "      <td>9.355851</td>\n",
       "      <td>9.437550</td>\n",
       "    </tr>\n",
       "    <tr>\n",
       "      <th>267</th>\n",
       "      <td>42</td>\n",
       "      <td>1</td>\n",
       "      <td>35.970</td>\n",
       "      <td>2</td>\n",
       "      <td>0</td>\n",
       "      <td>2</td>\n",
       "      <td>8.876311</td>\n",
       "      <td>8.971560</td>\n",
       "    </tr>\n",
       "  </tbody>\n",
       "</table>\n",
       "<p>268 rows × 8 columns</p>\n",
       "</div>"
      ],
      "text/plain": [
       "     age  sex     bmi  children  smoker  region  Actual sales  Predicted sales\n",
       "0     37    0  27.740         3       0       1      8.893093         8.902646\n",
       "1     36    0  26.885         0       0       1      8.569372         8.558002\n",
       "2     59    1  37.100         1       0       3      9.421182         9.442069\n",
       "3     61    0  25.080         0       0       2     10.106963         9.371092\n",
       "4     29    0  26.030         0       0       1      8.225895         8.302319\n",
       "..   ...  ...     ...       ...     ...     ...           ...              ...\n",
       "263   50    1  34.200         2       1       3     10.665620        10.759633\n",
       "264   26    0  40.185         0       0       1      8.071295         8.375583\n",
       "265   19    1  27.265         2       0       1     10.020989         8.096113\n",
       "266   57    1  40.945         0       0       0      9.355851         9.437550\n",
       "267   42    1  35.970         2       0       2      8.876311         8.971560\n",
       "\n",
       "[268 rows x 8 columns]"
      ]
     },
     "execution_count": 36,
     "metadata": {},
     "output_type": "execute_result"
    }
   ],
   "source": [
    "new_df"
   ]
  },
  {
   "cell_type": "markdown",
   "metadata": {},
   "source": [
    "In the above table Actual sales and the Predicted sales are compared. It can be seen that the predction done is very close to the acutal sales."
   ]
  },
  {
   "cell_type": "code",
   "execution_count": 33,
   "metadata": {},
   "outputs": [
    {
     "name": "stdout",
     "output_type": "stream",
     "text": [
      "R-squared: 0.7049534517624695\n",
      "RMSE: 0.4882327185684708\n",
      "Adj R-square: 0.7036234147305949\n"
     ]
    }
   ],
   "source": [
    "# Generating the R-squared, RMSE & Adjusant R-square values\n",
    "\n",
    "from sklearn.metrics import r2_score,mean_squared_error\n",
    "import numpy as np\n",
    " \n",
    "r2=r2_score(Y_test,Y_pred)\n",
    "print(\"R-squared:\",r2)\n",
    " \n",
    "rmse=np.sqrt(mean_squared_error(Y_test,Y_pred))\n",
    "print(\"RMSE:\",rmse)\n",
    " \n",
    "adjusted_r_squared = 1 - (1-r2)*(len(Y)-1)/(len(Y)-X.shape[1]-1)\n",
    "print(\"Adj R-square:\",adjusted_r_squared)"
   ]
  },
  {
   "cell_type": "markdown",
   "metadata": {},
   "source": [
    "As the R-squared value 0.7049 and the Adj R-squared value  0.7036 are very close and the RMS value 0.4882 is close to 1, it can be said that its a good model.\n"
   ]
  },
  {
   "cell_type": "markdown",
   "metadata": {},
   "source": [
    "### Tunning the Model"
   ]
  },
  {
   "cell_type": "markdown",
   "metadata": {},
   "source": [
    "#### 1. Applying RIDGE"
   ]
  },
  {
   "cell_type": "code",
   "execution_count": 40,
   "metadata": {},
   "outputs": [
    {
     "name": "stdout",
     "output_type": "stream",
     "text": [
      "Intercept [7.00041521]\n",
      "Coefficients [[ 0.03498462 -0.07025584  0.01259184  0.09952118  1.5602262  -0.03886915]]\n"
     ]
    }
   ],
   "source": [
    "from sklearn.linear_model import Ridge\n",
    "\n",
    "# create a model object\n",
    "rid = Ridge()\n",
    "\n",
    "# train the model object\n",
    "rid.fit(X_train, Y_train)            # fit test is used to train\n",
    "\n",
    "# print intercept and coefficients\n",
    "print(\"Intercept\",rid.intercept_)                    \n",
    "print(\"Coefficients\",rid.coef_)        "
   ]
  },
  {
   "cell_type": "code",
   "execution_count": 37,
   "metadata": {},
   "outputs": [],
   "source": [
    "Y_pred=rid.predict(X_test)"
   ]
  },
  {
   "cell_type": "code",
   "execution_count": 38,
   "metadata": {},
   "outputs": [
    {
     "name": "stdout",
     "output_type": "stream",
     "text": [
      "R-squared: 0.7052731948166413\n",
      "RMSE: 0.487968097039376\n",
      "Adj R-square: 0.7039445991509011\n"
     ]
    }
   ],
   "source": [
    "from sklearn.metrics import r2_score,mean_squared_error\n",
    "import numpy as np\n",
    " \n",
    "r2=r2_score(Y_test,Y_pred)\n",
    "print(\"R-squared:\",r2)\n",
    " \n",
    "rmse=np.sqrt(mean_squared_error(Y_test,Y_pred))\n",
    "print(\"RMSE:\",rmse)\n",
    " \n",
    "adjusted_r_squared = 1 - (1-r2)*(len(Y)-1)/(len(Y)-X.shape[1]-1)\n",
    "print(\"Adj R-square:\",adjusted_r_squared)"
   ]
  },
  {
   "cell_type": "markdown",
   "metadata": {},
   "source": [
    " R-squared value is 0.7052 and Adj R-square value is  0.7039 are very close by. The RMSE value is 0.4879 is close to 1. Therefore it is a good model."
   ]
  },
  {
   "cell_type": "markdown",
   "metadata": {},
   "source": [
    "#### 2. Applying Lasso"
   ]
  },
  {
   "cell_type": "code",
   "execution_count": 43,
   "metadata": {},
   "outputs": [
    {
     "name": "stdout",
     "output_type": "stream",
     "text": [
      "Intercept [7.89587545]\n",
      "Coefficients [ 0.03043079  0.          0.          0.          0.         -0.        ]\n"
     ]
    }
   ],
   "source": [
    "from sklearn.linear_model import Lasso\n",
    "\n",
    "# create a model object\n",
    "las = Lasso()\n",
    "\n",
    "# train the model object\n",
    "las.fit(X_train, Y_train)            # fit test is used to train\n",
    "\n",
    "# print intercept and coefficients\n",
    "print(\"Intercept\",las.intercept_)                     # beta 0\n",
    "print(\"Coefficients\",las.coef_)           "
   ]
  },
  {
   "cell_type": "code",
   "execution_count": 44,
   "metadata": {},
   "outputs": [],
   "source": [
    "Y_pred=las.predict(X_test)"
   ]
  },
  {
   "cell_type": "code",
   "execution_count": 45,
   "metadata": {},
   "outputs": [
    {
     "name": "stdout",
     "output_type": "stream",
     "text": [
      "R-squared: 0.21387850856962531\n",
      "RMSE: 0.7969415049819164\n",
      "Adj R-square: 0.21033476029871445\n"
     ]
    }
   ],
   "source": [
    "from sklearn.metrics import r2_score,mean_squared_error\n",
    "import numpy as np\n",
    " \n",
    "r2=r2_score(Y_test,Y_pred)\n",
    "print(\"R-squared:\",r2)\n",
    " \n",
    "rmse=np.sqrt(mean_squared_error(Y_test,Y_pred))\n",
    "print(\"RMSE:\",rmse)\n",
    " \n",
    "adjusted_r_squared = 1 - (1-r2)*(len(Y)-1)/(len(Y)-X.shape[1]-1)\n",
    "print(\"Adj R-square:\",adjusted_r_squared)"
   ]
  },
  {
   "cell_type": "markdown",
   "metadata": {},
   "source": [
    "The R-squared (0.213 )and Adj R-square(0.210) values are very low and the RMSE value (0.7969)is very high. Therefore this is a bad model."
   ]
  },
  {
   "cell_type": "markdown",
   "metadata": {},
   "source": [
    "# Conclusion:\n"
   ]
  },
  {
   "cell_type": "markdown",
   "metadata": {},
   "source": [
    "It can be concluded that the Ridge model gives the best result when compared with the base model. The Lasso model is showing a bad model.\n",
    "\n",
    "Therefore for this problem Ridge model should be used."
   ]
  },
  {
   "cell_type": "code",
   "execution_count": null,
   "metadata": {},
   "outputs": [],
   "source": []
  }
 ],
 "metadata": {
  "kernelspec": {
   "display_name": "Python 3",
   "language": "python",
   "name": "python3"
  },
  "language_info": {
   "codemirror_mode": {
    "name": "ipython",
    "version": 3
   },
   "file_extension": ".py",
   "mimetype": "text/x-python",
   "name": "python",
   "nbconvert_exporter": "python",
   "pygments_lexer": "ipython3",
   "version": "3.7.6"
  }
 },
 "nbformat": 4,
 "nbformat_minor": 5
}
